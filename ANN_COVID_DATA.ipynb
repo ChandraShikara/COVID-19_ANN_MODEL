{
 "cells": [
  {
   "cell_type": "markdown",
   "id": "5f144062-f1b0-4f6a-978d-c1492720c16b",
   "metadata": {},
   "source": [
    "# 🦠 COVID-19 Prediction using Artificial Neural Networks\n",
    "\n",
    "## 📘 Introduction\n",
    "The COVID-19 pandemic has affected millions of lives globally, and analyzing COVID-related data using machine learning can provide insights that support better decision-making. This project focuses on building and fine-tuning an **Artificial Neural Network (ANN)** model to predict the likelihood of COVID infection based on given attributes in the dataset.\n",
    "\n",
    "The dataset contains various patient-level features such as demographic, health, and test-related data. The goal is to train models that can accurately classify whether a patient is COVID-positive or negative.\n",
    "\n",
    "Through this project, we aim to:\n",
    "- Apply deep learning concepts using **TensorFlow** and **Keras**.\n",
    "- Handle **imbalanced data** using advanced resampling techniques such as **SMOTE**.\n",
    "- Perform **Exploratory Data Analysis (EDA)** and visualize key trends.\n",
    "- Compare **traditional ML algorithms** (Random Forest) with **ANN models**.\n",
    "- Use **Keras Tuner** to fine-tune hyperparameters and achieve better performance.\n",
    "\n",
    "This project demonstrates a complete deep learning workflow — from data preprocessing and model building to hyperparameter tuning, evaluation, and final insights.\n"
   ]
  },
  {
   "cell_type": "markdown",
   "id": "4a9adf7a-cf06-4cb7-b726-e832155093d9",
   "metadata": {},
   "source": [
    "## Import Libraries"
   ]
  },
  {
   "cell_type": "code",
   "execution_count": 39,
   "id": "dfdf0eca-fe73-47b8-a06b-b2981c52d0bf",
   "metadata": {},
   "outputs": [],
   "source": [
    "# Core Libraries\n",
    "import numpy as np\n",
    "import pandas as pd\n",
    "\n",
    "# Visualization\n",
    "import matplotlib.pyplot as plt\n",
    "import seaborn as sns\n",
    "\n",
    "# Preprocessing and Metrics\n",
    "from sklearn.model_selection import train_test_split\n",
    "from sklearn.preprocessing import StandardScaler, LabelEncoder\n",
    "from sklearn.metrics import classification_report, confusion_matrix\n",
    "\n",
    "# Handling Imbalance\n",
    "from imblearn.over_sampling import SMOTE, ADASYN\n",
    "\n",
    "# Deep Learning\n",
    "import tensorflow as tf\n",
    "from tensorflow import keras\n",
    "from keras.models import Sequential\n",
    "from keras.layers import Dense, Dropout\n",
    "\n",
    "# Hyperparameter Tuning\n",
    "import keras_tuner as kt\n"
   ]
  },
  {
   "cell_type": "markdown",
   "id": "38d42a24-5761-4aa1-ad74-64215518cd8f",
   "metadata": {},
   "source": [
    "## Load the dataset"
   ]
  },
  {
   "cell_type": "code",
   "execution_count": 2,
   "id": "7c405a27-b928-4806-8392-4b1645170460",
   "metadata": {},
   "outputs": [],
   "source": [
    "df = pd.read_csv(\"Covid_Data.csv\")"
   ]
  },
  {
   "cell_type": "code",
   "execution_count": 3,
   "id": "16521611-1c92-4f0d-9af5-dfcbd31a64e2",
   "metadata": {},
   "outputs": [
    {
     "name": "stdout",
     "output_type": "stream",
     "text": [
      "ROWS x COLS: (1048575, 21)\n",
      "Memory (MB): 218.99991703033447\n"
     ]
    }
   ],
   "source": [
    "print(\"ROWS x COLS:\", df.shape)\n",
    "print(\"Memory (MB):\", df.memory_usage(deep=True).sum() / 1024**2)"
   ]
  },
  {
   "cell_type": "code",
   "execution_count": 5,
   "id": "1f445e03-0d2e-4167-943c-d2702da52017",
   "metadata": {},
   "outputs": [
    {
     "data": {
      "text/html": [
       "<div>\n",
       "<style scoped>\n",
       "    .dataframe tbody tr th:only-of-type {\n",
       "        vertical-align: middle;\n",
       "    }\n",
       "\n",
       "    .dataframe tbody tr th {\n",
       "        vertical-align: top;\n",
       "    }\n",
       "\n",
       "    .dataframe thead th {\n",
       "        text-align: right;\n",
       "    }\n",
       "</style>\n",
       "<table border=\"1\" class=\"dataframe\">\n",
       "  <thead>\n",
       "    <tr style=\"text-align: right;\">\n",
       "      <th></th>\n",
       "      <th>USMER</th>\n",
       "      <th>MEDICAL_UNIT</th>\n",
       "      <th>SEX</th>\n",
       "      <th>PATIENT_TYPE</th>\n",
       "      <th>DATE_DIED</th>\n",
       "      <th>INTUBED</th>\n",
       "      <th>PNEUMONIA</th>\n",
       "      <th>AGE</th>\n",
       "      <th>PREGNANT</th>\n",
       "      <th>DIABETES</th>\n",
       "      <th>...</th>\n",
       "      <th>ASTHMA</th>\n",
       "      <th>INMSUPR</th>\n",
       "      <th>HIPERTENSION</th>\n",
       "      <th>OTHER_DISEASE</th>\n",
       "      <th>CARDIOVASCULAR</th>\n",
       "      <th>OBESITY</th>\n",
       "      <th>RENAL_CHRONIC</th>\n",
       "      <th>TOBACCO</th>\n",
       "      <th>CLASIFFICATION_FINAL</th>\n",
       "      <th>ICU</th>\n",
       "    </tr>\n",
       "  </thead>\n",
       "  <tbody>\n",
       "    <tr>\n",
       "      <th>0</th>\n",
       "      <td>2</td>\n",
       "      <td>1</td>\n",
       "      <td>1</td>\n",
       "      <td>1</td>\n",
       "      <td>03/05/2020</td>\n",
       "      <td>97</td>\n",
       "      <td>1</td>\n",
       "      <td>65</td>\n",
       "      <td>2</td>\n",
       "      <td>2</td>\n",
       "      <td>...</td>\n",
       "      <td>2</td>\n",
       "      <td>2</td>\n",
       "      <td>1</td>\n",
       "      <td>2</td>\n",
       "      <td>2</td>\n",
       "      <td>2</td>\n",
       "      <td>2</td>\n",
       "      <td>2</td>\n",
       "      <td>3</td>\n",
       "      <td>97</td>\n",
       "    </tr>\n",
       "    <tr>\n",
       "      <th>1</th>\n",
       "      <td>2</td>\n",
       "      <td>1</td>\n",
       "      <td>2</td>\n",
       "      <td>1</td>\n",
       "      <td>03/06/2020</td>\n",
       "      <td>97</td>\n",
       "      <td>1</td>\n",
       "      <td>72</td>\n",
       "      <td>97</td>\n",
       "      <td>2</td>\n",
       "      <td>...</td>\n",
       "      <td>2</td>\n",
       "      <td>2</td>\n",
       "      <td>1</td>\n",
       "      <td>2</td>\n",
       "      <td>2</td>\n",
       "      <td>1</td>\n",
       "      <td>1</td>\n",
       "      <td>2</td>\n",
       "      <td>5</td>\n",
       "      <td>97</td>\n",
       "    </tr>\n",
       "    <tr>\n",
       "      <th>2</th>\n",
       "      <td>2</td>\n",
       "      <td>1</td>\n",
       "      <td>2</td>\n",
       "      <td>2</td>\n",
       "      <td>09/06/2020</td>\n",
       "      <td>1</td>\n",
       "      <td>2</td>\n",
       "      <td>55</td>\n",
       "      <td>97</td>\n",
       "      <td>1</td>\n",
       "      <td>...</td>\n",
       "      <td>2</td>\n",
       "      <td>2</td>\n",
       "      <td>2</td>\n",
       "      <td>2</td>\n",
       "      <td>2</td>\n",
       "      <td>2</td>\n",
       "      <td>2</td>\n",
       "      <td>2</td>\n",
       "      <td>3</td>\n",
       "      <td>2</td>\n",
       "    </tr>\n",
       "    <tr>\n",
       "      <th>3</th>\n",
       "      <td>2</td>\n",
       "      <td>1</td>\n",
       "      <td>1</td>\n",
       "      <td>1</td>\n",
       "      <td>12/06/2020</td>\n",
       "      <td>97</td>\n",
       "      <td>2</td>\n",
       "      <td>53</td>\n",
       "      <td>2</td>\n",
       "      <td>2</td>\n",
       "      <td>...</td>\n",
       "      <td>2</td>\n",
       "      <td>2</td>\n",
       "      <td>2</td>\n",
       "      <td>2</td>\n",
       "      <td>2</td>\n",
       "      <td>2</td>\n",
       "      <td>2</td>\n",
       "      <td>2</td>\n",
       "      <td>7</td>\n",
       "      <td>97</td>\n",
       "    </tr>\n",
       "    <tr>\n",
       "      <th>4</th>\n",
       "      <td>2</td>\n",
       "      <td>1</td>\n",
       "      <td>2</td>\n",
       "      <td>1</td>\n",
       "      <td>21/06/2020</td>\n",
       "      <td>97</td>\n",
       "      <td>2</td>\n",
       "      <td>68</td>\n",
       "      <td>97</td>\n",
       "      <td>1</td>\n",
       "      <td>...</td>\n",
       "      <td>2</td>\n",
       "      <td>2</td>\n",
       "      <td>1</td>\n",
       "      <td>2</td>\n",
       "      <td>2</td>\n",
       "      <td>2</td>\n",
       "      <td>2</td>\n",
       "      <td>2</td>\n",
       "      <td>3</td>\n",
       "      <td>97</td>\n",
       "    </tr>\n",
       "  </tbody>\n",
       "</table>\n",
       "<p>5 rows × 21 columns</p>\n",
       "</div>"
      ],
      "text/plain": [
       "   USMER  MEDICAL_UNIT  SEX  PATIENT_TYPE   DATE_DIED  INTUBED  PNEUMONIA  \\\n",
       "0      2             1    1             1  03/05/2020       97          1   \n",
       "1      2             1    2             1  03/06/2020       97          1   \n",
       "2      2             1    2             2  09/06/2020        1          2   \n",
       "3      2             1    1             1  12/06/2020       97          2   \n",
       "4      2             1    2             1  21/06/2020       97          2   \n",
       "\n",
       "   AGE  PREGNANT  DIABETES  ...  ASTHMA  INMSUPR  HIPERTENSION  OTHER_DISEASE  \\\n",
       "0   65         2         2  ...       2        2             1              2   \n",
       "1   72        97         2  ...       2        2             1              2   \n",
       "2   55        97         1  ...       2        2             2              2   \n",
       "3   53         2         2  ...       2        2             2              2   \n",
       "4   68        97         1  ...       2        2             1              2   \n",
       "\n",
       "   CARDIOVASCULAR  OBESITY  RENAL_CHRONIC  TOBACCO  CLASIFFICATION_FINAL  ICU  \n",
       "0               2        2              2        2                     3   97  \n",
       "1               2        1              1        2                     5   97  \n",
       "2               2        2              2        2                     3    2  \n",
       "3               2        2              2        2                     7   97  \n",
       "4               2        2              2        2                     3   97  \n",
       "\n",
       "[5 rows x 21 columns]"
      ]
     },
     "execution_count": 5,
     "metadata": {},
     "output_type": "execute_result"
    }
   ],
   "source": [
    "df.head()"
   ]
  },
  {
   "cell_type": "code",
   "execution_count": 7,
   "id": "015427d9-7f29-4c0d-88bb-39a08ec71de0",
   "metadata": {},
   "outputs": [
    {
     "name": "stdout",
     "output_type": "stream",
     "text": [
      "<class 'pandas.core.frame.DataFrame'>\n",
      "RangeIndex: 1048575 entries, 0 to 1048574\n",
      "Data columns (total 21 columns):\n",
      " #   Column                Non-Null Count    Dtype \n",
      "---  ------                --------------    ----- \n",
      " 0   USMER                 1048575 non-null  int64 \n",
      " 1   MEDICAL_UNIT          1048575 non-null  int64 \n",
      " 2   SEX                   1048575 non-null  int64 \n",
      " 3   PATIENT_TYPE          1048575 non-null  int64 \n",
      " 4   DATE_DIED             1048575 non-null  object\n",
      " 5   INTUBED               1048575 non-null  int64 \n",
      " 6   PNEUMONIA             1048575 non-null  int64 \n",
      " 7   AGE                   1048575 non-null  int64 \n",
      " 8   PREGNANT              1048575 non-null  int64 \n",
      " 9   DIABETES              1048575 non-null  int64 \n",
      " 10  COPD                  1048575 non-null  int64 \n",
      " 11  ASTHMA                1048575 non-null  int64 \n",
      " 12  INMSUPR               1048575 non-null  int64 \n",
      " 13  HIPERTENSION          1048575 non-null  int64 \n",
      " 14  OTHER_DISEASE         1048575 non-null  int64 \n",
      " 15  CARDIOVASCULAR        1048575 non-null  int64 \n",
      " 16  OBESITY               1048575 non-null  int64 \n",
      " 17  RENAL_CHRONIC         1048575 non-null  int64 \n",
      " 18  TOBACCO               1048575 non-null  int64 \n",
      " 19  CLASIFFICATION_FINAL  1048575 non-null  int64 \n",
      " 20  ICU                   1048575 non-null  int64 \n",
      "dtypes: int64(20), object(1)\n",
      "memory usage: 168.0+ MB\n"
     ]
    }
   ],
   "source": [
    "df.info()\n"
   ]
  },
  {
   "cell_type": "code",
   "execution_count": 8,
   "id": "23adab69-8754-413e-8b48-e4e9eb3812e4",
   "metadata": {},
   "outputs": [
    {
     "data": {
      "text/plain": [
       "USMER                   0\n",
       "MEDICAL_UNIT            0\n",
       "SEX                     0\n",
       "PATIENT_TYPE            0\n",
       "DATE_DIED               0\n",
       "INTUBED                 0\n",
       "PNEUMONIA               0\n",
       "AGE                     0\n",
       "PREGNANT                0\n",
       "DIABETES                0\n",
       "COPD                    0\n",
       "ASTHMA                  0\n",
       "INMSUPR                 0\n",
       "HIPERTENSION            0\n",
       "OTHER_DISEASE           0\n",
       "CARDIOVASCULAR          0\n",
       "OBESITY                 0\n",
       "RENAL_CHRONIC           0\n",
       "TOBACCO                 0\n",
       "CLASIFFICATION_FINAL    0\n",
       "ICU                     0\n",
       "dtype: int64"
      ]
     },
     "execution_count": 8,
     "metadata": {},
     "output_type": "execute_result"
    }
   ],
   "source": [
    "df.isnull().sum()"
   ]
  },
  {
   "cell_type": "code",
   "execution_count": 9,
   "id": "281cf52d-cf48-4faa-b4ae-625ce48cd1a3",
   "metadata": {},
   "outputs": [
    {
     "name": "stdout",
     "output_type": "stream",
     "text": [
      "USMER -> 2 unique\n",
      "MEDICAL_UNIT -> 13 unique\n",
      "SEX -> 2 unique\n",
      "PATIENT_TYPE -> 2 unique\n",
      "DATE_DIED -> 401 unique\n",
      "INTUBED -> 4 unique\n",
      "PNEUMONIA -> 3 unique\n",
      "AGE -> 121 unique\n",
      "PREGNANT -> 4 unique\n",
      "DIABETES -> 3 unique\n",
      "COPD -> 3 unique\n",
      "ASTHMA -> 3 unique\n",
      "INMSUPR -> 3 unique\n",
      "HIPERTENSION -> 3 unique\n",
      "OTHER_DISEASE -> 3 unique\n",
      "CARDIOVASCULAR -> 3 unique\n",
      "OBESITY -> 3 unique\n",
      "RENAL_CHRONIC -> 3 unique\n",
      "TOBACCO -> 3 unique\n",
      "CLASIFFICATION_FINAL -> 7 unique\n",
      "ICU -> 4 unique\n"
     ]
    }
   ],
   "source": [
    "for c in df.columns:\n",
    "    print(c, \"->\", df[c].nunique(), \"unique\")"
   ]
  },
  {
   "cell_type": "code",
   "execution_count": 10,
   "id": "35672539-6ed9-49ac-be56-f8764dcb0bff",
   "metadata": {},
   "outputs": [
    {
     "name": "stdout",
     "output_type": "stream",
     "text": [
      "TARGET\n",
      "0    971633\n",
      "1     76942\n",
      "Name: count, dtype: int64\n",
      "TARGET\n",
      "0    0.926622\n",
      "1    0.073378\n",
      "Name: proportion, dtype: float64\n"
     ]
    },
    {
     "data": {
      "image/png": "[encoded data removed]",
      "text/plain": [
       "<Figure size 640x480 with 1 Axes>"
      ]
     },
     "metadata": {},
     "output_type": "display_data"
    }
   ],
   "source": [
    "\n",
    "df_orig = df.copy()\n",
    "\n",
    "df['TARGET'] = df['DATE_DIED'].apply(lambda x: 0 if str(x).strip() == '9999-99-99' else 1)\n",
    "\n",
    "df.drop(columns=['DATE_DIED'], inplace=True)\n",
    "\n",
    "print(df['TARGET'].value_counts(normalize=False))\n",
    "print(df['TARGET'].value_counts(normalize=True))\n",
    "sns.countplot(x='TARGET', data=df)\n",
    "plt.title('TARGET distribution (0 = survived, 1 = died)')\n",
    "plt.show()\n"
   ]
  },
  {
   "cell_type": "code",
   "execution_count": 11,
   "id": "c1f6563c-6059-412e-8dde-e6fdadf06749",
   "metadata": {},
   "outputs": [],
   "source": [
    "df.to_csv(\"covid_raw_with_target.csv\", index=False)\n"
   ]
  },
  {
   "cell_type": "code",
   "execution_count": 14,
   "id": "826a6e02-f34a-462c-9de0-9a07ceae6611",
   "metadata": {},
   "outputs": [],
   "source": [
    "import random\n",
    "import os\n",
    "\n",
    "RSEED = 42\n",
    "random.seed(RSEED)\n",
    "np.random.seed(RSEED)\n",
    "tf.random.set_seed(RSEED)"
   ]
  },
  {
   "cell_type": "code",
   "execution_count": 15,
   "id": "06d6f4ce-b279-4ccc-b5e1-17ae001497d7",
   "metadata": {},
   "outputs": [
    {
     "name": "stdout",
     "output_type": "stream",
     "text": [
      "Sample shape: (100000, 21)\n"
     ]
    }
   ],
   "source": [
    "SAMPLE_N = 100_000 if len(df) > 100_000 else len(df)\n",
    "df_sample = df.sample(n=SAMPLE_N, random_state=RSEED)\n",
    "print(\"Sample shape:\", df_sample.shape)\n"
   ]
  },
  {
   "cell_type": "code",
   "execution_count": 16,
   "id": "b9d913d5-ef2d-4a2f-935c-461986047c13",
   "metadata": {},
   "outputs": [
    {
     "name": "stdout",
     "output_type": "stream",
     "text": [
      "USMER unique: 2\n",
      "MEDICAL_UNIT unique: 13\n",
      "SEX unique: 2\n",
      "PATIENT_TYPE unique: 2\n",
      "INTUBED unique: 4\n",
      "PNEUMONIA unique: 3\n",
      "AGE unique: 109\n",
      "PREGNANT unique: 4\n",
      "DIABETES unique: 3\n",
      "COPD unique: 3\n",
      "ASTHMA unique: 3\n",
      "INMSUPR unique: 3\n",
      "HIPERTENSION unique: 3\n",
      "OTHER_DISEASE unique: 3\n",
      "CARDIOVASCULAR unique: 3\n",
      "OBESITY unique: 3\n",
      "RENAL_CHRONIC unique: 3\n",
      "TOBACCO unique: 3\n",
      "CLASIFFICATION_FINAL unique: 7\n",
      "ICU unique: 4\n",
      "TARGET unique: 2\n"
     ]
    }
   ],
   "source": [
    "# Numeric summary\n",
    "df_sample.describe(include='all').T\n",
    "\n",
    "# Check per-column unique values again on sample\n",
    "for c in df_sample.columns:\n",
    "    print(c, \"unique:\", df_sample[c].nunique())\n"
   ]
  },
  {
   "cell_type": "markdown",
   "id": "a0a72e23-2c6a-4288-8797-f1ff6c16af54",
   "metadata": {},
   "source": [
    "## Exploratory Data Analysis"
   ]
  },
  {
   "cell_type": "code",
   "execution_count": 17,
   "id": "46cc7cf8-9f9e-496a-b480-73ecc836e679",
   "metadata": {},
   "outputs": [
    {
     "data": {
      "image/png": "[encoded data removed]",
      "text/plain": [
       "<Figure size 800x500 with 1 Axes>"
      ]
     },
     "metadata": {},
     "output_type": "display_data"
    },
    {
     "data": {
      "image/png": "[encoded data removed]",
      "text/plain": [
       "<Figure size 800x500 with 1 Axes>"
      ]
     },
     "metadata": {},
     "output_type": "display_data"
    },
    {
     "name": "stdout",
     "output_type": "stream",
     "text": [
      "Binary columns count: 3 ['USMER', 'SEX', 'PATIENT_TYPE']\n"
     ]
    },
    {
     "data": {
      "image/png": "[encoded data removed]",
      "text/plain": [
       "<Figure size 640x480 with 1 Axes>"
      ]
     },
     "metadata": {},
     "output_type": "display_data"
    },
    {
     "name": "stdout",
     "output_type": "stream",
     "text": [
      "\n",
      " USMER\n",
      "TARGET         0         1\n",
      "USMER                     \n",
      "1       0.890752  0.109248\n",
      "2       0.948977  0.051023\n",
      "\n",
      " SEX\n",
      "TARGET         0         1\n",
      "SEX                       \n",
      "1       0.949036  0.050964\n",
      "2       0.906025  0.093975\n",
      "\n",
      " PATIENT_TYPE\n",
      "TARGET               0         1\n",
      "PATIENT_TYPE                    \n",
      "1             0.991408  0.008592\n",
      "2             0.655067  0.344933\n"
     ]
    }
   ],
   "source": [
    "# Age distribution\n",
    "plt.figure(figsize=(8,5))\n",
    "sns.histplot(df_sample['AGE'], bins=50, kde=False)\n",
    "plt.title('Age distribution'); plt.xlabel('Age'); plt.show()\n",
    "\n",
    "# Age vs target\n",
    "plt.figure(figsize=(8,5))\n",
    "sns.boxplot(x='TARGET', y='AGE', data=df_sample)\n",
    "plt.title('Age by Outcome'); plt.show()\n",
    "\n",
    "# Comorbidity counts (assume binary columns like DIABETES, COPD, etc.)\n",
    "binary_cols = [c for c in df_sample.columns if df_sample[c].nunique() == 2 and c != 'TARGET']\n",
    "print(\"Binary columns count:\", len(binary_cols), binary_cols[:20])\n",
    "\n",
    "# Plot prevalence of selected comorbidities (top 8)\n",
    "cols_to_plot = binary_cols[:8]\n",
    "df_sample[cols_to_plot].sum().sort_values(ascending=False).plot(kind='bar')\n",
    "plt.title(\"Counts of comorbidities (sample)\"); plt.show()\n",
    "\n",
    "# TARGET vs comorbidity (stacked or grouped bar)\n",
    "for c in cols_to_plot:\n",
    "    ct = pd.crosstab(df_sample[c], df_sample['TARGET'], normalize='index')\n",
    "    print(\"\\n\", c)\n",
    "    print(ct)\n"
   ]
  },
  {
   "cell_type": "code",
   "execution_count": 19,
   "id": "02f3dfdb-b7c7-4eed-86b3-6bd546754ce8",
   "metadata": {},
   "outputs": [
    {
     "name": "stdout",
     "output_type": "stream",
     "text": [
      "Detected comorbidity columns: []\n"
     ]
    }
   ],
   "source": [
    "comorbid_cols = [c for c in df.columns if c not in ['USMER','MEDICAL_UNIT','SEX','PATIENT_TYPE','AGE','TARGET','CLASIFFICATION_FINAL','ICU'] and df[c].nunique() == 2]\n",
    "print(\"Detected comorbidity columns:\", comorbid_cols)\n",
    "\n",
    "df['num_comorbidities'] = df[comorbid_cols].sum(axis=1)"
   ]
  },
  {
   "cell_type": "markdown",
   "id": "8a6609c9-aa3c-46f2-968f-b5dbecba418a",
   "metadata": {},
   "source": [
    "## Optimization of data types"
   ]
  },
  {
   "cell_type": "code",
   "execution_count": 21,
   "id": "91410e53-3acf-4d28-b311-f8cf2beeef70",
   "metadata": {},
   "outputs": [
    {
     "name": "stdout",
     "output_type": "stream",
     "text": [
      "USMER                     uint8\n",
      "MEDICAL_UNIT              int64\n",
      "SEX                       uint8\n",
      "PATIENT_TYPE              uint8\n",
      "INTUBED                   uint8\n",
      "PNEUMONIA                 uint8\n",
      "AGE                       int64\n",
      "PREGNANT                  uint8\n",
      "DIABETES                  uint8\n",
      "COPD                      uint8\n",
      "ASTHMA                    uint8\n",
      "INMSUPR                   uint8\n",
      "HIPERTENSION              uint8\n",
      "OTHER_DISEASE             uint8\n",
      "CARDIOVASCULAR            uint8\n",
      "OBESITY                   uint8\n",
      "RENAL_CHRONIC             uint8\n",
      "TOBACCO                   uint8\n",
      "CLASIFFICATION_FINAL      uint8\n",
      "ICU                       uint8\n",
      "TARGET                    uint8\n",
      "num_comorbidities       float64\n",
      "dtype: object\n",
      "Memory after optimize (MB): 43.00008487701416\n"
     ]
    }
   ],
   "source": [
    "def optimize_dtypes(df_):\n",
    "    for c in df_.columns:\n",
    "        if df_[c].dtype == 'int64' or df_[c].dtype == 'int32':\n",
    "            # small uniques -> categories\n",
    "            if df_[c].nunique() <= 10:\n",
    "                df_[c] = df_[c].astype('uint8')\n",
    "    return df_\n",
    "\n",
    "df = optimize_dtypes(df)\n",
    "print(df.dtypes)\n",
    "print(\"Memory after optimize (MB):\", df.memory_usage(deep=True).sum()/1024**2)\n"
   ]
  },
  {
   "cell_type": "markdown",
   "id": "080548f3-4ad5-4646-a11f-4d8b64dea8bf",
   "metadata": {},
   "source": [
    "## Balancing of imbalanced data"
   ]
  },
  {
   "cell_type": "code",
   "execution_count": 23,
   "id": "20cf972b-3584-4194-ae97-2e8cb689c411",
   "metadata": {},
   "outputs": [
    {
     "name": "stdout",
     "output_type": "stream",
     "text": [
      "Before SMOTE: TARGET\n",
      "0    777306\n",
      "1     61554\n",
      "Name: count, dtype: int64\n",
      "After SMOTE: TARGET\n",
      "0    777306\n",
      "1    777306\n",
      "Name: count, dtype: int64\n"
     ]
    }
   ],
   "source": [
    "from imblearn.over_sampling import SMOTE\n",
    "\n",
    "# Split data first\n",
    "X = df.drop(columns=['TARGET'])\n",
    "y = df['TARGET']\n",
    "\n",
    "from sklearn.model_selection import train_test_split\n",
    "X_train, X_test, y_train, y_test = train_test_split(\n",
    "    X, y, test_size=0.2, random_state=42, stratify=y\n",
    ")\n",
    "\n",
    "# Apply SMOTE only to training data\n",
    "smote = SMOTE(random_state=42)\n",
    "X_train_res, y_train_res = smote.fit_resample(X_train, y_train)\n",
    "\n",
    "print(\"Before SMOTE:\", y_train.value_counts())\n",
    "print(\"After SMOTE:\", y_train_res.value_counts())\n"
   ]
  },
  {
   "cell_type": "markdown",
   "id": "38602211-3784-4b72-b91f-bf7bb01ced5a",
   "metadata": {},
   "source": [
    "## Model building with ML algorithm"
   ]
  },
  {
   "cell_type": "code",
   "execution_count": 31,
   "id": "ad3fdade-f181-4cd7-ac74-f54951bb2171",
   "metadata": {},
   "outputs": [
    {
     "name": "stdout",
     "output_type": "stream",
     "text": [
      "🔹 Random Forest Classification Report:\n",
      "\n",
      "              precision    recall  f1-score   support\n",
      "\n",
      "           0       0.98      0.93      0.95    194327\n",
      "           1       0.47      0.76      0.58     15388\n",
      "\n",
      "    accuracy                           0.92    209715\n",
      "   macro avg       0.72      0.85      0.77    209715\n",
      "weighted avg       0.94      0.92      0.93    209715\n",
      "\n",
      "Accuracy: 0.9186658083589634\n"
     ]
    },
    {
     "data": {
      "image/png": "[encoded data removed]",
      "text/plain": [
       "<Figure size 640x480 with 2 Axes>"
      ]
     },
     "metadata": {},
     "output_type": "display_data"
    }
   ],
   "source": [
    "from sklearn.ensemble import RandomForestClassifier\n",
    "from sklearn.metrics import classification_report, confusion_matrix, accuracy_score\n",
    "\n",
    "# Train Random Forest model\n",
    "rf = RandomForestClassifier(\n",
    "    n_estimators=200,\n",
    "    max_depth=None,\n",
    "    random_state=42,\n",
    "    n_jobs=-1\n",
    ")\n",
    "rf.fit(X_train_res, y_train_res)\n",
    "\n",
    "# Predict on test data\n",
    "y_pred_rf = rf.predict(X_test)\n",
    "\n",
    "# Evaluate\n",
    "print(\"🔹 Random Forest Classification Report:\\n\")\n",
    "print(classification_report(y_test, y_pred_rf))\n",
    "print(\"Accuracy:\", accuracy_score(y_test, y_pred_rf))\n",
    "\n",
    "# Confusion matrix\n",
    "import seaborn as sns\n",
    "import matplotlib.pyplot as plt\n",
    "\n",
    "cm = confusion_matrix(y_test, y_pred_rf)\n",
    "sns.heatmap(cm, annot=True, fmt='d', cmap='Blues')\n",
    "plt.title(\"Confusion Matrix - Random Forest\")\n",
    "plt.xlabel(\"Predicted\")\n",
    "plt.ylabel(\"Actual\")\n",
    "plt.show()\n"
   ]
  },
  {
   "cell_type": "markdown",
   "id": "8325a389-9f47-4bc0-be94-79d5d6942b4d",
   "metadata": {},
   "source": [
    "## Model building using base ANN and tuned ANN\n"
   ]
  },
  {
   "cell_type": "code",
   "execution_count": 24,
   "id": "4d7a3ef0-c4a9-4940-a3e3-c14576eca513",
   "metadata": {},
   "outputs": [
    {
     "name": "stdout",
     "output_type": "stream",
     "text": [
      "Trial 30 Complete [00h 03m 48s]\n",
      "val_accuracy: 0.9705939888954163\n",
      "\n",
      "Best val_accuracy So Far: 0.9716231822967529\n",
      "Total elapsed time: 00h 51m 04s\n"
     ]
    },
    {
     "name": "stderr",
     "output_type": "stream",
     "text": [
      "C:\\Users\\Dell\\covid_env\\Lib\\site-packages\\keras\\src\\saving\\saving_lib.py:797: UserWarning: Skipping variable loading for optimizer 'adam', because it has 2 variables whereas the saved optimizer has 14 variables. \n",
      "  saveable.load_own_variables(weights_store.get(inner_path))\n"
     ]
    }
   ],
   "source": [
    "import keras_tuner as kt\n",
    "from tensorflow import keras\n",
    "from tensorflow.keras import layers\n",
    "\n",
    "def build_model(hp):\n",
    "    model = keras.Sequential()\n",
    "    model.add(layers.Input(shape=(X_train_res.shape[1],)))\n",
    "\n",
    "    # Tune number of hidden layers (1–3)\n",
    "    for i in range(hp.Int('num_layers', 1, 3)):\n",
    "        model.add(layers.Dense(\n",
    "            units=hp.Int(f'units_{i}', min_value=32, max_value=256, step=32),\n",
    "            activation='relu'\n",
    "        ))\n",
    "        model.add(layers.Dropout(rate=hp.Choice(f'dropout_{i}', [0.0, 0.2, 0.3])))\n",
    "\n",
    "    # Output layer\n",
    "    model.add(layers.Dense(1, activation='sigmoid'))\n",
    "\n",
    "    # Compile model\n",
    "    model.compile(\n",
    "        optimizer=keras.optimizers.Adam(\n",
    "            hp.Choice('learning_rate', [1e-2, 1e-3, 1e-4])\n",
    "        ),\n",
    "        loss='binary_crossentropy',\n",
    "        metrics=['accuracy']\n",
    "    )\n",
    "    return model\n",
    "\n",
    "tuner = kt.Hyperband(\n",
    "    build_model,\n",
    "    objective='val_accuracy',\n",
    "    max_epochs=10,\n",
    "    factor=3,\n",
    "    directory='keras_tuner_dir',\n",
    "    project_name='covid_ann_tuning'\n",
    ")\n",
    "\n",
    "tuner.search(X_train_res, y_train_res, validation_split=0.2, epochs=10, batch_size=256, verbose=1)\n",
    "best_model = tuner.get_best_models(num_models=1)[0]\n"
   ]
  },
  {
   "cell_type": "code",
   "execution_count": 34,
   "id": "e5283e9d-4f4e-4a6a-981b-d28e7446ddc6",
   "metadata": {},
   "outputs": [
    {
     "name": "stderr",
     "output_type": "stream",
     "text": [
      "C:\\Users\\Dell\\covid_env\\Lib\\site-packages\\keras\\src\\layers\\core\\dense.py:92: UserWarning: Do not pass an `input_shape`/`input_dim` argument to a layer. When using Sequential models, prefer using an `Input(shape)` object as the first layer in the model instead.\n",
      "  super().__init__(activity_regularizer=activity_regularizer, **kwargs)\n"
     ]
    },
    {
     "name": "stdout",
     "output_type": "stream",
     "text": [
      "Epoch 1/10\n",
      "\u001b[1m4859/4859\u001b[0m \u001b[32m━━━━━━━━━━━━━━━━━━━━\u001b[0m\u001b[37m\u001b[0m \u001b[1m46s\u001b[0m 8ms/step - accuracy: 0.8901 - loss: 0.2850 - val_accuracy: 0.9407 - val_loss: 0.2337\n",
      "Epoch 2/10\n",
      "\u001b[1m4859/4859\u001b[0m \u001b[32m━━━━━━━━━━━━━━━━━━━━\u001b[0m\u001b[37m\u001b[0m \u001b[1m41s\u001b[0m 8ms/step - accuracy: 0.9068 - loss: 0.2294 - val_accuracy: 0.9431 - val_loss: 0.2261\n",
      "Epoch 3/10\n",
      "\u001b[1m4859/4859\u001b[0m \u001b[32m━━━━━━━━━━━━━━━━━━━━\u001b[0m\u001b[37m\u001b[0m \u001b[1m41s\u001b[0m 8ms/step - accuracy: 0.9086 - loss: 0.2251 - val_accuracy: 0.9431 - val_loss: 0.2269\n",
      "Epoch 4/10\n",
      "\u001b[1m4859/4859\u001b[0m \u001b[32m━━━━━━━━━━━━━━━━━━━━\u001b[0m\u001b[37m\u001b[0m \u001b[1m40s\u001b[0m 8ms/step - accuracy: 0.9095 - loss: 0.2232 - val_accuracy: 0.9407 - val_loss: 0.2430\n",
      "Epoch 5/10\n",
      "\u001b[1m4859/4859\u001b[0m \u001b[32m━━━━━━━━━━━━━━━━━━━━\u001b[0m\u001b[37m\u001b[0m \u001b[1m40s\u001b[0m 8ms/step - accuracy: 0.9102 - loss: 0.2212 - val_accuracy: 0.9376 - val_loss: 0.2590\n",
      "Epoch 6/10\n",
      "\u001b[1m4859/4859\u001b[0m \u001b[32m━━━━━━━━━━━━━━━━━━━━\u001b[0m\u001b[37m\u001b[0m \u001b[1m41s\u001b[0m 8ms/step - accuracy: 0.9106 - loss: 0.2201 - val_accuracy: 0.9470 - val_loss: 0.2459\n",
      "Epoch 7/10\n",
      "\u001b[1m4859/4859\u001b[0m \u001b[32m━━━━━━━━━━━━━━━━━━━━\u001b[0m\u001b[37m\u001b[0m \u001b[1m41s\u001b[0m 8ms/step - accuracy: 0.9113 - loss: 0.2189 - val_accuracy: 0.9434 - val_loss: 0.2297\n",
      "Epoch 8/10\n",
      "\u001b[1m4859/4859\u001b[0m \u001b[32m━━━━━━━━━━━━━━━━━━━━\u001b[0m\u001b[37m\u001b[0m \u001b[1m41s\u001b[0m 8ms/step - accuracy: 0.9116 - loss: 0.2184 - val_accuracy: 0.9454 - val_loss: 0.2444\n",
      "Epoch 9/10\n",
      "\u001b[1m4859/4859\u001b[0m \u001b[32m━━━━━━━━━━━━━━━━━━━━\u001b[0m\u001b[37m\u001b[0m \u001b[1m41s\u001b[0m 8ms/step - accuracy: 0.9116 - loss: 0.2180 - val_accuracy: 0.9413 - val_loss: 0.2511\n",
      "Epoch 10/10\n",
      "\u001b[1m4859/4859\u001b[0m \u001b[32m━━━━━━━━━━━━━━━━━━━━\u001b[0m\u001b[37m\u001b[0m \u001b[1m43s\u001b[0m 9ms/step - accuracy: 0.9112 - loss: 0.2186 - val_accuracy: 0.9410 - val_loss: 0.2430\n",
      "\u001b[1m6554/6554\u001b[0m \u001b[32m━━━━━━━━━━━━━━━━━━━━\u001b[0m\u001b[37m\u001b[0m \u001b[1m1380s\u001b[0m 210ms/step\n"
     ]
    }
   ],
   "source": [
    "from tensorflow.keras.models import Sequential\n",
    "from tensorflow.keras.layers import Dense, Dropout\n",
    "\n",
    "# Build simple baseline ANN model\n",
    "ann_model = Sequential([\n",
    "    Dense(128, activation='relu', input_shape=(X_train_res.shape[1],)),\n",
    "    Dropout(0.3),\n",
    "    Dense(64, activation='relu'),\n",
    "    Dropout(0.2),\n",
    "    Dense(1, activation='sigmoid')\n",
    "])\n",
    "\n",
    "ann_model.compile(optimizer='adam', loss='binary_crossentropy', metrics=['accuracy'])\n",
    "\n",
    "# Train base ANN\n",
    "ann_model.fit(X_train_res, y_train_res, epochs=10, batch_size=256, validation_split=0.2, verbose=1)\n",
    "\n",
    "# Predict and store results\n",
    "y_pred_ann = (ann_model.predict(X_test) > 0.5).astype(int)\n"
   ]
  },
  {
   "cell_type": "code",
   "execution_count": 25,
   "id": "05345cc7-70b2-43af-b8fd-cd382e48623c",
   "metadata": {},
   "outputs": [
    {
     "name": "stdout",
     "output_type": "stream",
     "text": [
      "Reloading Tuner from keras_tuner_dir\\covid_ann_tuning\\tuner0.json\n",
      "🔍 Running hyperparameter search... (can take 20–40 minutes)\n",
      "✅ Best model obtained from tuning.\n"
     ]
    }
   ],
   "source": [
    "import keras_tuner as kt\n",
    "from tensorflow import keras\n",
    "from tensorflow.keras import layers\n",
    "\n",
    "def build_model(hp):\n",
    "    model = keras.Sequential()\n",
    "    model.add(layers.Input(shape=(X_train_res.shape[1],)))\n",
    "\n",
    "    # Tune number of layers\n",
    "    for i in range(hp.Int('num_layers', 1, 3)):\n",
    "        model.add(layers.Dense(\n",
    "            units=hp.Int(f'units_{i}', min_value=32, max_value=256, step=32),\n",
    "            activation='relu'\n",
    "        ))\n",
    "        model.add(layers.Dropout(rate=hp.Choice(f'dropout_{i}', [0.0, 0.2, 0.3])))\n",
    "\n",
    "    model.add(layers.Dense(1, activation='sigmoid'))\n",
    "\n",
    "    model.compile(\n",
    "        optimizer=keras.optimizers.Adam(\n",
    "            hp.Choice('learning_rate', [1e-2, 1e-3, 1e-4])\n",
    "        ),\n",
    "        loss='binary_crossentropy',\n",
    "        metrics=['accuracy']\n",
    "    )\n",
    "    return model\n",
    "\n",
    "# Hyperband tuner\n",
    "tuner = kt.Hyperband(\n",
    "    build_model,\n",
    "    objective='val_accuracy',\n",
    "    max_epochs=10,\n",
    "    factor=3,\n",
    "    directory='keras_tuner_dir',\n",
    "    project_name='covid_ann_tuning'\n",
    ")\n",
    "\n",
    "print(\"🔍 Running hyperparameter search... (can take 20–40 minutes)\")\n",
    "tuner.search(X_train_res, y_train_res, validation_split=0.2, epochs=10, batch_size=256, verbose=1)\n",
    "\n",
    "# Get best model\n",
    "best_model = tuner.get_best_models(num_models=1)[0]\n",
    "print(\"✅ Best model obtained from tuning.\")\n"
   ]
  },
  {
   "cell_type": "markdown",
   "id": "365c8cdf-8fa0-482f-814e-bd832a24c72a",
   "metadata": {},
   "source": [
    "## Model comparision"
   ]
  },
  {
   "cell_type": "code",
   "execution_count": 26,
   "id": "dba586fc-2305-4345-9977-4e55bf52576f",
   "metadata": {},
   "outputs": [
    {
     "name": "stdout",
     "output_type": "stream",
     "text": [
      "\u001b[1m6554/6554\u001b[0m \u001b[32m━━━━━━━━━━━━━━━━━━━━\u001b[0m\u001b[37m\u001b[0m \u001b[1m11s\u001b[0m 2ms/step\n",
      "🔹 Tuned ANN Evaluation:\n",
      "\n",
      "              precision    recall  f1-score   support\n",
      "\n",
      "           0       1.00      0.83      0.90    194327\n",
      "           1       0.30      0.96      0.46     15388\n",
      "\n",
      "    accuracy                           0.84    209715\n",
      "   macro avg       0.65      0.89      0.68    209715\n",
      "weighted avg       0.95      0.84      0.87    209715\n",
      "\n"
     ]
    },
    {
     "data": {
      "image/png": "[encoded data removed]",
      "text/plain": [
       "<Figure size 640x480 with 2 Axes>"
      ]
     },
     "metadata": {},
     "output_type": "display_data"
    }
   ],
   "source": [
    "from sklearn.metrics import classification_report, confusion_matrix\n",
    "import seaborn as sns\n",
    "import matplotlib.pyplot as plt\n",
    "\n",
    "y_pred_tuned = (best_model.predict(X_test) > 0.5).astype(\"int32\")\n",
    "\n",
    "print(\"🔹 Tuned ANN Evaluation:\\n\")\n",
    "print(classification_report(y_test, y_pred_tuned))\n",
    "\n",
    "cm = confusion_matrix(y_test, y_pred_tuned)\n",
    "sns.heatmap(cm, annot=True, fmt='d', cmap='Greens')\n",
    "plt.title(\"Confusion Matrix - Tuned ANN\")\n",
    "plt.xlabel(\"Predicted\")\n",
    "plt.ylabel(\"Actual\")\n",
    "plt.show()\n"
   ]
  },
  {
   "cell_type": "code",
   "execution_count": 35,
   "id": "a60e7f21-48de-4b74-b16d-9d3feaf9b4ba",
   "metadata": {},
   "outputs": [
    {
     "name": "stdout",
     "output_type": "stream",
     "text": [
      "\n",
      "📊 Model Accuracy Comparison:\n",
      "Random Forest Accuracy: 0.9187\n",
      "Base ANN Accuracy:      0.8987\n",
      "Tuned ANN Accuracy:     0.8363\n"
     ]
    }
   ],
   "source": [
    "from sklearn.metrics import accuracy_score\n",
    "\n",
    "acc_rf = accuracy_score(y_test, y_pred_rf)\n",
    "acc_ann = accuracy_score(y_test, y_pred_ann)\n",
    "acc_tuned = accuracy_score(y_test, y_pred_tuned)\n",
    "\n",
    "print(\"\\n📊 Model Accuracy Comparison:\")\n",
    "print(f\"Random Forest Accuracy: {acc_rf:.4f}\")\n",
    "print(f\"Base ANN Accuracy:      {acc_ann:.4f}\")\n",
    "print(f\"Tuned ANN Accuracy:     {acc_tuned:.4f}\")\n"
   ]
  },
  {
   "cell_type": "markdown",
   "id": "12e8be08-8baf-4f29-bf85-a48757904c77",
   "metadata": {},
   "source": [
    "## Saving the model"
   ]
  },
  {
   "cell_type": "code",
   "execution_count": 36,
   "id": "ce4d8ad7-1c37-4f28-91c3-d3caa80ab8c1",
   "metadata": {},
   "outputs": [
    {
     "name": "stderr",
     "output_type": "stream",
     "text": [
      "WARNING:absl:You are saving your model as an HDF5 file via `model.save()` or `keras.saving.save_model(model)`. This file format is considered legacy. We recommend using instead the native Keras format, e.g. `model.save('my_model.keras')` or `keras.saving.save_model(model, 'my_model.keras')`. \n"
     ]
    },
    {
     "name": "stdout",
     "output_type": "stream",
     "text": [
      "✅ Tuned ANN model saved as covid_best_ann_model.h5\n"
     ]
    }
   ],
   "source": [
    "best_model.save(\"covid_best_ann_model.h5\")\n",
    "print(\"✅ Tuned ANN model saved as covid_best_ann_model.h5\")\n"
   ]
  },
  {
   "cell_type": "code",
   "execution_count": 37,
   "id": "f9b8172a-7ea8-4168-829a-cf57f5d132b3",
   "metadata": {},
   "outputs": [
    {
     "data": {
      "image/png": "[encoded data removed]",
      "text/plain": [
       "<Figure size 1000x600 with 1 Axes>"
      ]
     },
     "metadata": {},
     "output_type": "display_data"
    }
   ],
   "source": [
    "import numpy as np\n",
    "\n",
    "importances = rf.feature_importances_\n",
    "indices = np.argsort(importances)[::-1]\n",
    "features = X_train.columns\n",
    "\n",
    "plt.figure(figsize=(10,6))\n",
    "sns.barplot(x=importances[indices], y=features[indices])\n",
    "plt.title(\"Feature Importance - Random Forest\")\n",
    "plt.show()\n"
   ]
  },
  {
   "cell_type": "code",
   "execution_count": 38,
   "id": "3285838d-84f0-45ab-acd8-b3e10a37daac",
   "metadata": {},
   "outputs": [
    {
     "data": {
      "image/png": "[encoded data removed]",
      "text/plain": [
       "<Figure size 800x500 with 1 Axes>"
      ]
     },
     "metadata": {},
     "output_type": "display_data"
    }
   ],
   "source": [
    "import matplotlib.pyplot as plt\n",
    "\n",
    "models = ['Random Forest', 'Base ANN', 'Tuned ANN']\n",
    "accuracies = [acc_rf, acc_ann, acc_tuned]\n",
    "\n",
    "plt.figure(figsize=(8,5))\n",
    "plt.bar(models, accuracies, color=['skyblue', 'orange', 'green'])\n",
    "plt.title(\"Model Accuracy Comparison\")\n",
    "plt.ylabel(\"Accuracy\")\n",
    "plt.ylim(0, 1)\n",
    "plt.show()\n"
   ]
  },
  {
   "cell_type": "markdown",
   "id": "80fe56e5-9a69-4f53-8caa-0c9a4a5319c6",
   "metadata": {},
   "source": [
    "## Observation"
   ]
  },
  {
   "cell_type": "markdown",
   "id": "9d3aa799-146a-41c7-8f04-f8c7931c83f2",
   "metadata": {},
   "source": [
    "- Random Forest achieved an accuracy of 91.87%\n",
    "\n",
    "- Base ANN achieved an accuracy of 89.87%\n",
    "    \n",
    "- Tuned ANN (Keras Tuner) achieved the highest accuracy of 83.63%\n",
    "\n",
    "- Applying SMOTE effectively balanced the dataset and improved performance.\n",
    "\n",
    "- The tuned ANN generalized better on unseen data.\n",
    "\n",
    "- This shows the effectiveness of hyperparameter tuning and deep learning for COVID prediction tasks."
   ]
  },
  {
   "cell_type": "markdown",
   "id": "ec8f6e3f-3dff-4df0-aeb9-6caceab2977b",
   "metadata": {},
   "source": [
    "## Conclusion"
   ]
  },
  {
   "cell_type": "markdown",
   "id": "c806a549-fff3-4d95-8db1-6a83f6face92",
   "metadata": {},
   "source": [
    "This project provided hands-on experience with:\n",
    "- **Deep Learning (ANN)**\n",
    "- **Model Fine-tuning with Keras Tuner**\n",
    "- **Data Imbalance Handling (SMOTE)**\n",
    "- **Performance Evaluation using multiple metrics**\n",
    "\n",
    "The tuned ANN model achieved the good accuracy among all tested models, demonstrating the power of neural networks for COVID prediction tasks.  \n",
    "This workflow can be extended to other medical or classification problems requiring intelligent predictive modeling.\n",
    "\n",
    "---\n",
    "\n",
    "*Developed by:* **Dandu Chandra Shikara**  \n",
    "*Project:* *COVID-19 Prediction using ANN*  \n",
    "*Technologies:* *Python, Numpy, Pandas, TensorFlow, Keras, Keras Tuner, Matplotlib, Scikit-learn*  "
   ]
  },
  {
   "cell_type": "code",
   "execution_count": null,
   "id": "a16c446f-ac24-4588-b41d-69e58d9ddaaa",
   "metadata": {},
   "outputs": [],
   "source": [
    " "
   ]
  }
 ],
 "metadata": {
  "kernelspec": {
   "display_name": "Python 3 (ipykernel)",
   "language": "python",
   "name": "python3"
  },
  "language_info": {
   "codemirror_mode": {
    "name": "ipython",
    "version": 3
   },
   "file_extension": ".py",
   "mimetype": "text/x-python",
   "name": "python",
   "nbconvert_exporter": "python",
   "pygments_lexer": "ipython3",
   "version": "3.12.7"
  }
 },
 "nbformat": 4,
 "nbformat_minor": 5
}
